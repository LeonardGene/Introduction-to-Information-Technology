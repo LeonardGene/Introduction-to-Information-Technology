{
  "nbformat": 4,
  "nbformat_minor": 0,
  "metadata": {
    "colab": {
      "name": "python20211011.ipynb",
      "provenance": [],
      "authorship_tag": "ABX9TyONOCoL9444s3HBAJA28J1f",
      "include_colab_link": true
    },
    "kernelspec": {
      "name": "python3",
      "display_name": "Python 3"
    },
    "language_info": {
      "name": "python"
    }
  },
  "cells": [
    {
      "cell_type": "markdown",
      "metadata": {
        "id": "view-in-github",
        "colab_type": "text"
      },
      "source": [
        "<a href=\"https://colab.research.google.com/github/LeonardGene/Introduction-to-Information-Technology/blob/4100E238/python20211011.ipynb\" target=\"_parent\"><img src=\"https://colab.research.google.com/assets/colab-badge.svg\" alt=\"Open In Colab\"/></a>"
      ]
    },
    {
      "cell_type": "markdown",
      "metadata": {
        "id": "iW6NTGkSVNPf"
      },
      "source": [
        "# **Python Data Type**\n",
        "#### Date: 2021/10/11\n",
        "#### Name: Leonard Gene O. Tubang\n",
        "#### 4100E238 - 羅納德"
      ]
    },
    {
      "cell_type": "markdown",
      "metadata": {
        "id": "KYoFFwnXWbD-"
      },
      "source": [
        "# **Arithmetic Operators**"
      ]
    },
    {
      "cell_type": "code",
      "metadata": {
        "colab": {
          "base_uri": "https://localhost:8080/"
        },
        "id": "gEN1AGZ3WlN2",
        "outputId": "0ce6bc82-225a-48d5-b2c1-5460efc76147"
      },
      "source": [
        "a = 3 + 3 + 2\n",
        "a "
      ],
      "execution_count": 11,
      "outputs": [
        {
          "output_type": "execute_result",
          "data": {
            "text/plain": [
              "8"
            ]
          },
          "metadata": {},
          "execution_count": 11
        }
      ]
    },
    {
      "cell_type": "code",
      "metadata": {
        "colab": {
          "base_uri": "https://localhost:8080/"
        },
        "id": "Ns0jr97kXZLA",
        "outputId": "e303c1be-e2d6-41f0-fc9f-46c6e0f6c6fb"
      },
      "source": [
        "b = 10 - 8\n",
        "b"
      ],
      "execution_count": 14,
      "outputs": [
        {
          "output_type": "execute_result",
          "data": {
            "text/plain": [
              "2"
            ]
          },
          "metadata": {},
          "execution_count": 14
        }
      ]
    },
    {
      "cell_type": "code",
      "metadata": {
        "colab": {
          "base_uri": "https://localhost:8080/"
        },
        "id": "sv4LQcM7Xtcv",
        "outputId": "506bc6b7-887b-4601-9aeb-e5c8910d1324"
      },
      "source": [
        "c = 9 * 3\n",
        "c"
      ],
      "execution_count": 15,
      "outputs": [
        {
          "output_type": "execute_result",
          "data": {
            "text/plain": [
              "27"
            ]
          },
          "metadata": {},
          "execution_count": 15
        }
      ]
    },
    {
      "cell_type": "code",
      "metadata": {
        "colab": {
          "base_uri": "https://localhost:8080/"
        },
        "id": "icaiqJGFYBPf",
        "outputId": "6ef9da84-c6e2-40f7-d99a-877c57dd26e9"
      },
      "source": [
        "d = 4004 / 2\n",
        "d "
      ],
      "execution_count": 16,
      "outputs": [
        {
          "output_type": "execute_result",
          "data": {
            "text/plain": [
              "2002.0"
            ]
          },
          "metadata": {},
          "execution_count": 16
        }
      ]
    },
    {
      "cell_type": "code",
      "metadata": {
        "colab": {
          "base_uri": "https://localhost:8080/"
        },
        "id": "tqoyrKWxYLw1",
        "outputId": "f9f0440e-5d0a-4b3d-d108-296df15e4005"
      },
      "source": [
        "e = 40 // 2\n",
        "e"
      ],
      "execution_count": 18,
      "outputs": [
        {
          "output_type": "execute_result",
          "data": {
            "text/plain": [
              "20"
            ]
          },
          "metadata": {},
          "execution_count": 18
        }
      ]
    },
    {
      "cell_type": "code",
      "metadata": {
        "colab": {
          "base_uri": "https://localhost:8080/"
        },
        "id": "u_YSk90VYfno",
        "outputId": "1bc0adf5-5c21-47fe-d322-1d24c5b61f3b"
      },
      "source": [
        "f = 50 % 100\n",
        "f"
      ],
      "execution_count": 21,
      "outputs": [
        {
          "output_type": "execute_result",
          "data": {
            "text/plain": [
              "50"
            ]
          },
          "metadata": {},
          "execution_count": 21
        }
      ]
    },
    {
      "cell_type": "code",
      "metadata": {
        "colab": {
          "base_uri": "https://localhost:8080/"
        },
        "id": "bSN9petGYqyp",
        "outputId": "1c71ab27-ef15-4573-cb0f-16626e017a77"
      },
      "source": [
        "g = 27**8\n",
        "g "
      ],
      "execution_count": 51,
      "outputs": [
        {
          "output_type": "execute_result",
          "data": {
            "text/plain": [
              "282429536481"
            ]
          },
          "metadata": {},
          "execution_count": 51
        }
      ]
    },
    {
      "cell_type": "markdown",
      "metadata": {
        "id": "DZY9TiUqZIii"
      },
      "source": [
        "# **Logical Operators**"
      ]
    },
    {
      "cell_type": "code",
      "metadata": {
        "colab": {
          "base_uri": "https://localhost:8080/"
        },
        "id": "iFezVuSuZQKM",
        "outputId": "353340e8-0e74-4ef5-a49b-554916d229fe"
      },
      "source": [
        "x = 8\n",
        "print (x > 5 and x < 10)"
      ],
      "execution_count": 34,
      "outputs": [
        {
          "output_type": "stream",
          "name": "stdout",
          "text": [
            "True\n"
          ]
        }
      ]
    },
    {
      "cell_type": "markdown",
      "metadata": {
        "id": "NwiNSnwcbCKC"
      },
      "source": [
        "x = 8\n",
        "\n",
        "(x > 5) TRUE | (x < 10) TRUE\n",
        "\n",
        "[TRUE] and [TRUE] ==> True\n",
        "\n",
        "[TRUE] and [FALSE] ==> False\n",
        "\n",
        "[FALSE] and [TRUE] ==> False\n",
        "\n",
        "[FALSE] and [FALSE] ==> False"
      ]
    },
    {
      "cell_type": "code",
      "metadata": {
        "colab": {
          "base_uri": "https://localhost:8080/"
        },
        "id": "TSy4GPoCcaid",
        "outputId": "169cb3e7-b2f8-4067-ba69-0fce5bd4b1aa"
      },
      "source": [
        "x = 8\n",
        "print (x < 5 and x > 10)"
      ],
      "execution_count": 35,
      "outputs": [
        {
          "output_type": "stream",
          "name": "stdout",
          "text": [
            "False\n"
          ]
        }
      ]
    },
    {
      "cell_type": "markdown",
      "metadata": {
        "id": "SZl8afsrcmyl"
      },
      "source": [
        "x = 8\n",
        "\n",
        "(x > 5) TRUE | (x < 10) TRUE\n",
        "\n",
        "[TRUE] and [TRUE] ==> True\n",
        "\n",
        "[TRUE] and [FALSE] ==> False\n",
        "\n",
        "[FALSE] and [TRUE] ==> False\n",
        "\n",
        "[FALSE] and [FALSE] ==> False"
      ]
    },
    {
      "cell_type": "markdown",
      "metadata": {
        "id": "kCrFh7JncuUN"
      },
      "source": [
        "# **Built-In Functions** (bin Function)"
      ]
    },
    {
      "cell_type": "code",
      "metadata": {
        "colab": {
          "base_uri": "https://localhost:8080/",
          "height": 35
        },
        "id": "of3uYBTuc9NR",
        "outputId": "1f2572bc-52ae-453b-e3bc-e68a359ff245"
      },
      "source": [
        "bin(27)"
      ],
      "execution_count": 36,
      "outputs": [
        {
          "output_type": "execute_result",
          "data": {
            "application/vnd.google.colaboratory.intrinsic+json": {
              "type": "string"
            },
            "text/plain": [
              "'0b11011'"
            ]
          },
          "metadata": {},
          "execution_count": 36
        }
      ]
    },
    {
      "cell_type": "code",
      "metadata": {
        "colab": {
          "base_uri": "https://localhost:8080/"
        },
        "id": "peiMH2Z2dC-Z",
        "outputId": "4ae04dba-4aaa-421d-b373-dfee02079e73"
      },
      "source": [
        "int(0b11011)"
      ],
      "execution_count": 37,
      "outputs": [
        {
          "output_type": "execute_result",
          "data": {
            "text/plain": [
              "27"
            ]
          },
          "metadata": {},
          "execution_count": 37
        }
      ]
    },
    {
      "cell_type": "markdown",
      "metadata": {
        "id": "gnM9zepGdHV9"
      },
      "source": [
        "# **String Data Type**"
      ]
    },
    {
      "cell_type": "code",
      "metadata": {
        "colab": {
          "base_uri": "https://localhost:8080/",
          "height": 35
        },
        "id": "DsMBGNt8dWCk",
        "outputId": "5844541c-6b8c-4c3a-c475-0b1148e5ad69"
      },
      "source": [
        "str3 = 'making embedded \"double\" quotes'\n",
        "str3"
      ],
      "execution_count": 38,
      "outputs": [
        {
          "output_type": "execute_result",
          "data": {
            "application/vnd.google.colaboratory.intrinsic+json": {
              "type": "string"
            },
            "text/plain": [
              "'making embedded \"double\" quotes'"
            ]
          },
          "metadata": {},
          "execution_count": 38
        }
      ]
    },
    {
      "cell_type": "code",
      "metadata": {
        "colab": {
          "base_uri": "https://localhost:8080/",
          "height": 35
        },
        "id": "TKK-Ki7gdhMZ",
        "outputId": "0183091c-2c84-43c3-944e-f7d8bf6dee62"
      },
      "source": [
        "str3 = 'finding the \"Snowdrop\" scenes'\n",
        "str3"
      ],
      "execution_count": 40,
      "outputs": [
        {
          "output_type": "execute_result",
          "data": {
            "application/vnd.google.colaboratory.intrinsic+json": {
              "type": "string"
            },
            "text/plain": [
              "'finding the \"Snowdrop\" scenes'"
            ]
          },
          "metadata": {},
          "execution_count": 40
        }
      ]
    },
    {
      "cell_type": "markdown",
      "metadata": {
        "id": "BYt72UFdeCQo"
      },
      "source": [
        "# **Operation on Strings**"
      ]
    },
    {
      "cell_type": "code",
      "metadata": {
        "colab": {
          "base_uri": "https://localhost:8080/"
        },
        "id": "svdFhsxzeX13",
        "outputId": "b0bbfd1c-ce0a-49cd-c156-3e052d679aec"
      },
      "source": [
        "movie = 'Willy Wonka and the Chocolate Factory'\n",
        "print(\"movie1[25]: \", movie[25])"
      ],
      "execution_count": 50,
      "outputs": [
        {
          "output_type": "stream",
          "name": "stdout",
          "text": [
            "movie1[25]:  l\n"
          ]
        }
      ]
    },
    {
      "cell_type": "markdown",
      "metadata": {
        "id": "bXA9BC1Bfyqd"
      },
      "source": [
        "movie = 'Willy Wonka and the Chocolate Factory'\n",
        "\n",
        "movie[0] ==> W\n",
        "\n",
        "movie[1] ==> i\n",
        "\n",
        "...and so on"
      ]
    },
    {
      "cell_type": "markdown",
      "metadata": {
        "id": "kAH87O8zg2mG"
      },
      "source": [
        "# **Slice Operation**"
      ]
    },
    {
      "cell_type": "code",
      "metadata": {
        "colab": {
          "base_uri": "https://localhost:8080/"
        },
        "id": "vekjz4-ChFXf",
        "outputId": "3429833d-4105-488f-fd13-54a9366e2a76"
      },
      "source": [
        "h = \"Leonard Gene\"\n",
        "print(h[2:7])"
      ],
      "execution_count": 70,
      "outputs": [
        {
          "output_type": "stream",
          "name": "stdout",
          "text": [
            "onard\n"
          ]
        }
      ]
    },
    {
      "cell_type": "code",
      "metadata": {
        "colab": {
          "base_uri": "https://localhost:8080/"
        },
        "id": "FpfLiUYXh5Dn",
        "outputId": "12749f9e-301f-4eb3-d6f3-9245ebe740b2"
      },
      "source": [
        "h = \"Leonard Gene\"\n",
        "print(h[:1])"
      ],
      "execution_count": 71,
      "outputs": [
        {
          "output_type": "stream",
          "name": "stdout",
          "text": [
            "L\n"
          ]
        }
      ]
    },
    {
      "cell_type": "code",
      "metadata": {
        "colab": {
          "base_uri": "https://localhost:8080/"
        },
        "id": "RtA6j2xVinjZ",
        "outputId": "00ebb93d-96ce-4dd8-bd72-a94114d70f30"
      },
      "source": [
        "h = \"Leonard Gene\"\n",
        "print(h[1:])"
      ],
      "execution_count": 72,
      "outputs": [
        {
          "output_type": "stream",
          "name": "stdout",
          "text": [
            "eonard Gene\n"
          ]
        }
      ]
    },
    {
      "cell_type": "code",
      "metadata": {
        "colab": {
          "base_uri": "https://localhost:8080/"
        },
        "id": "FEbw_1xQi7WP",
        "outputId": "16f82586-f5a1-47fe-8b38-d568ed2bf3c8"
      },
      "source": [
        "h = \"Leonard Gene\"\n",
        "print(h[-2:-1])"
      ],
      "execution_count": 73,
      "outputs": [
        {
          "output_type": "stream",
          "name": "stdout",
          "text": [
            "n\n"
          ]
        }
      ]
    },
    {
      "cell_type": "markdown",
      "metadata": {
        "id": "zLgZRpQQjfY1"
      },
      "source": [
        "# **Python capitalize() Method**"
      ]
    },
    {
      "cell_type": "code",
      "metadata": {
        "colab": {
          "base_uri": "https://localhost:8080/"
        },
        "id": "Kw2YHI6pjnBY",
        "outputId": "1f93b314-6134-4374-fe77-247e51e2ba7e"
      },
      "source": [
        "horse = \"neigh\"\n",
        "x = horse.capitalize()\n",
        "print(x)"
      ],
      "execution_count": 74,
      "outputs": [
        {
          "output_type": "stream",
          "name": "stdout",
          "text": [
            "Neigh\n"
          ]
        }
      ]
    },
    {
      "cell_type": "markdown",
      "metadata": {
        "id": "Cv8Yj_-ejzOq"
      },
      "source": [
        "# **Python join() Method**"
      ]
    },
    {
      "cell_type": "code",
      "metadata": {
        "colab": {
          "base_uri": "https://localhost:8080/"
        },
        "id": "tZYEzq-mj4ae",
        "outputId": "3fdbc85b-049d-448f-dca4-cf372cd6e8e8"
      },
      "source": [
        "character = (\"Willy\", \"Wonka\", \"and\")\n",
        "x = \" \".join(character)\n",
        "print(x)"
      ],
      "execution_count": 77,
      "outputs": [
        {
          "output_type": "stream",
          "name": "stdout",
          "text": [
            "Willy Wonka and\n"
          ]
        }
      ]
    },
    {
      "cell_type": "markdown",
      "metadata": {
        "id": "J5vuiFs9kQSL"
      },
      "source": [
        "# **Python ljust() Method**"
      ]
    },
    {
      "cell_type": "code",
      "metadata": {
        "colab": {
          "base_uri": "https://localhost:8080/"
        },
        "id": "9VFXq2SqkYE6",
        "outputId": "2f6a8a6c-00d2-4433-e7b2-c32df3cd673f"
      },
      "source": [
        "horse = \"'Neigh!'\"\n",
        "x = horse.ljust(3)\n",
        "print(x,\",the horse said.\")"
      ],
      "execution_count": 80,
      "outputs": [
        {
          "output_type": "stream",
          "name": "stdout",
          "text": [
            "'Neigh!' ,the horse said.\n"
          ]
        }
      ]
    },
    {
      "cell_type": "markdown",
      "metadata": {
        "id": "gMB8KuJAk4gO"
      },
      "source": [
        "# **Python lstrip() Method**"
      ]
    },
    {
      "cell_type": "code",
      "metadata": {
        "colab": {
          "base_uri": "https://localhost:8080/"
        },
        "id": "RjDei7D7k-07",
        "outputId": "18d2f5c5-d71a-4e30-8842-cb79830cbe22"
      },
      "source": [
        "places = \"Manila and Cebu\"\n",
        "x = places.lstrip()\n",
        "print(\"My classmates are from\", x, \"and I'm excited to meet them!\")"
      ],
      "execution_count": 81,
      "outputs": [
        {
          "output_type": "stream",
          "name": "stdout",
          "text": [
            "My classmates are from Manila and Cebu and I'm excited to meet them!\n"
          ]
        }
      ]
    },
    {
      "cell_type": "markdown",
      "metadata": {
        "id": "CMbSRe6Hl0fW"
      },
      "source": [
        "# **List Data Type**"
      ]
    },
    {
      "cell_type": "code",
      "metadata": {
        "colab": {
          "base_uri": "https://localhost:8080/"
        },
        "id": "75gE7yySl39f",
        "outputId": "b05b2075-39e0-4689-80f0-0355a43641b1"
      },
      "source": [
        "list = [8,27,20,2]\n",
        "list [1]"
      ],
      "execution_count": 87,
      "outputs": [
        {
          "output_type": "execute_result",
          "data": {
            "text/plain": [
              "27"
            ]
          },
          "metadata": {},
          "execution_count": 87
        }
      ]
    },
    {
      "cell_type": "markdown",
      "metadata": {
        "id": "fMKy1fq_ma5y"
      },
      "source": [
        "list = [8,27,20,2]\n",
        "\n",
        "Index of List\n",
        "\n",
        "list [0] ==> 8\n",
        "\n",
        "list [1] ==> 27\n",
        "\n",
        "...and so on"
      ]
    },
    {
      "cell_type": "markdown",
      "metadata": {
        "id": "5A0u7xXSm9hl"
      },
      "source": [
        "# **List Slice Operation**"
      ]
    },
    {
      "cell_type": "code",
      "metadata": {
        "colab": {
          "base_uri": "https://localhost:8080/"
        },
        "id": "ZqPZwEXcnVA3",
        "outputId": "104f5a0f-cbdf-43dc-b040-be2d030e78a8"
      },
      "source": [
        "list = [8,27,20,2]\n",
        "list [1:3]"
      ],
      "execution_count": 88,
      "outputs": [
        {
          "output_type": "execute_result",
          "data": {
            "text/plain": [
              "[27, 20]"
            ]
          },
          "metadata": {},
          "execution_count": 88
        }
      ]
    },
    {
      "cell_type": "markdown",
      "metadata": {
        "id": "1vnOKJvNnpoc"
      },
      "source": [
        "# **List Built-In Functions**"
      ]
    },
    {
      "cell_type": "code",
      "metadata": {
        "colab": {
          "base_uri": "https://localhost:8080/"
        },
        "id": "VtPLCVa3nvds",
        "outputId": "5a14a999-0ad9-4d2b-ba56-cd2943f29d06"
      },
      "source": [
        "max(list)"
      ],
      "execution_count": 89,
      "outputs": [
        {
          "output_type": "execute_result",
          "data": {
            "text/plain": [
              "27"
            ]
          },
          "metadata": {},
          "execution_count": 89
        }
      ]
    },
    {
      "cell_type": "code",
      "metadata": {
        "colab": {
          "base_uri": "https://localhost:8080/"
        },
        "id": "Ep3K7k4Wn4oo",
        "outputId": "be9578f2-ee58-4de9-dc34-ba77e6c1c419"
      },
      "source": [
        "len(list)"
      ],
      "execution_count": 90,
      "outputs": [
        {
          "output_type": "execute_result",
          "data": {
            "text/plain": [
              "4"
            ]
          },
          "metadata": {},
          "execution_count": 90
        }
      ]
    },
    {
      "cell_type": "code",
      "metadata": {
        "colab": {
          "base_uri": "https://localhost:8080/"
        },
        "id": "1pUlTkcIn9Im",
        "outputId": "3a20aade-d0e4-4023-b991-71c02f952be9"
      },
      "source": [
        "min(list)"
      ],
      "execution_count": 91,
      "outputs": [
        {
          "output_type": "execute_result",
          "data": {
            "text/plain": [
              "2"
            ]
          },
          "metadata": {},
          "execution_count": 91
        }
      ]
    },
    {
      "cell_type": "markdown",
      "metadata": {
        "id": "RgdB_NngoB61"
      },
      "source": [
        "# **DICT Data Type**"
      ]
    },
    {
      "cell_type": "code",
      "metadata": {
        "colab": {
          "base_uri": "https://localhost:8080/"
        },
        "id": "xANILw06oNYH",
        "outputId": "f1cde45e-6377-48f0-f36e-94755c42ba6b"
      },
      "source": [
        "mydict = {'Name: Pikachu', 'Type: Electric', 'Species: Mouse Pokémon'}\n",
        "print(mydict)"
      ],
      "execution_count": 92,
      "outputs": [
        {
          "output_type": "stream",
          "name": "stdout",
          "text": [
            "{'Species: Mouse Pokémon', 'Type: Electric', 'Name: Pikachu'}\n"
          ]
        }
      ]
    }
  ]
}