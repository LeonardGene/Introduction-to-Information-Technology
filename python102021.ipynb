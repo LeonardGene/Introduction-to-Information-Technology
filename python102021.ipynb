{
  "nbformat": 4,
  "nbformat_minor": 0,
  "metadata": {
    "colab": {
      "name": "python102021.ipynb",
      "provenance": [],
      "collapsed_sections": [
        "IdB0sBBaT8S5",
        "57Q5FtpEaas-"
      ],
      "authorship_tag": "ABX9TyNyB34uA7nky29fpE0DSaGc",
      "include_colab_link": true
    },
    "kernelspec": {
      "name": "python3",
      "display_name": "Python 3"
    },
    "language_info": {
      "name": "python"
    }
  },
  "cells": [
    {
      "cell_type": "markdown",
      "metadata": {
        "id": "view-in-github",
        "colab_type": "text"
      },
      "source": [
        "<a href=\"https://colab.research.google.com/github/LeonardGene/Introduction-to-Information-Technology/blob/4100E238/python102021.ipynb\" target=\"_parent\"><img src=\"https://colab.research.google.com/assets/colab-badge.svg\" alt=\"Open In Colab\"/></a>"
      ]
    },
    {
      "cell_type": "markdown",
      "metadata": {
        "id": "72hEE3WlO1Xv"
      },
      "source": [
        "# **Summation**"
      ]
    },
    {
      "cell_type": "code",
      "metadata": {
        "colab": {
          "base_uri": "https://localhost:8080/"
        },
        "id": "eHUsHLYaO6OC",
        "outputId": "93ac312d-ae41-40ac-e8c1-0c20f7e2ddc4"
      },
      "source": [
        "def sum(a1, a2, a3):\n",
        "    result = 0\n",
        "    for a in range(a1, a2, a3):\n",
        "        result += a\n",
        "    return result\n",
        "\n",
        "def main():\n",
        "    print(\"Sum1\", sum(10, 60, 10)) \n",
        "    print(\"Sum2\", sum(20, 220, 20))\n",
        "    print(\"Sum3\", sum(30, 330, 30))\n",
        "\n",
        "main() # Call the main function"
      ],
      "execution_count": null,
      "outputs": [
        {
          "output_type": "stream",
          "name": "stdout",
          "text": [
            "Sum1 150\n",
            "Sum2 1100\n",
            "Sum3 1650\n"
          ]
        }
      ]
    },
    {
      "cell_type": "code",
      "metadata": {
        "colab": {
          "base_uri": "https://localhost:8080/"
        },
        "id": "2FXNUTj1QJKg",
        "outputId": "bdd2368d-bb88-4194-f7fa-0471ae8440c6"
      },
      "source": [
        "10+20+30+40+50"
      ],
      "execution_count": null,
      "outputs": [
        {
          "output_type": "execute_result",
          "data": {
            "text/plain": [
              "150"
            ]
          },
          "metadata": {},
          "execution_count": 11
        }
      ]
    },
    {
      "cell_type": "code",
      "metadata": {
        "colab": {
          "base_uri": "https://localhost:8080/"
        },
        "id": "lxOMQAquQbj3",
        "outputId": "ad6cba7f-6cea-474a-8dbf-208ded2e1fcd"
      },
      "source": [
        "20+40+60+80+100+120+140+160+180+200"
      ],
      "execution_count": null,
      "outputs": [
        {
          "output_type": "execute_result",
          "data": {
            "text/plain": [
              "1100"
            ]
          },
          "metadata": {},
          "execution_count": 15
        }
      ]
    },
    {
      "cell_type": "code",
      "metadata": {
        "colab": {
          "base_uri": "https://localhost:8080/"
        },
        "id": "GJK0djhpRSfP",
        "outputId": "a04b4687-55e0-4bce-d3f6-5d5dbed54012"
      },
      "source": [
        "30+60+90+120+150+180+210+240+270+300"
      ],
      "execution_count": null,
      "outputs": [
        {
          "output_type": "execute_result",
          "data": {
            "text/plain": [
              "1650"
            ]
          },
          "metadata": {},
          "execution_count": 12
        }
      ]
    },
    {
      "cell_type": "markdown",
      "metadata": {
        "id": "IdB0sBBaT8S5"
      },
      "source": [
        "# **Swap**"
      ]
    },
    {
      "cell_type": "code",
      "metadata": {
        "id": "o8LeINGjY5R6",
        "colab": {
          "base_uri": "https://localhost:8080/"
        },
        "outputId": "ea8d1d54-9f5e-4f7b-a75a-474c4e298bc7"
      },
      "source": [
        "def swap(c,d):\n",
        "  c,d = d,c\n",
        "  return (c,d)\n",
        "\n",
        "if __name__ == '__main__':\n",
        "    c = 10\n",
        "    d = 20\n",
        "    print('c = %d,d = %d' % (c,d))\n",
        "    c,d = swap(c,d)\n",
        "    print('c = %d,d = %d' % (c,d))"
      ],
      "execution_count": null,
      "outputs": [
        {
          "output_type": "stream",
          "name": "stdout",
          "text": [
            "c = 10,d = 20\n",
            "c = 20,d = 10\n"
          ]
        }
      ]
    },
    {
      "cell_type": "markdown",
      "metadata": {
        "id": "57Q5FtpEaas-"
      },
      "source": [
        "# **From Small to Large**"
      ]
    },
    {
      "cell_type": "code",
      "metadata": {
        "colab": {
          "base_uri": "https://localhost:8080/"
        },
        "id": "3tOpxMUlaeYN",
        "outputId": "dfd0469c-7049-44bf-c92e-7c007eb960f1"
      },
      "source": [
        "def sort(numberA, numberB, numberC):\n",
        "    if numberA < numberB < numberC:\n",
        "      return numberA, numberB, numberC\n",
        "    else:\n",
        "      return numberC, numberB, numberA\n",
        "    \n",
        "numA, numB, numC = sort(8, 27, 2002)\n",
        "\n",
        "print(\"num1 is\", numA)\n",
        "print(\"numb2 is\", numB)\n",
        "print(\"num3 is\", numC)"
      ],
      "execution_count": null,
      "outputs": [
        {
          "output_type": "stream",
          "name": "stdout",
          "text": [
            "num1 is 8\n",
            "numb2 is 27\n",
            "num3 is 2002\n"
          ]
        }
      ]
    },
    {
      "cell_type": "markdown",
      "metadata": {
        "id": "OuWwSSTDYfyI"
      },
      "source": [
        "# **From Large to Small**"
      ]
    },
    {
      "cell_type": "code",
      "metadata": {
        "colab": {
          "base_uri": "https://localhost:8080/"
        },
        "id": "nZbpjKuDYlep",
        "outputId": "07d84952-c883-497e-bec6-c4ba7a7c4cd3"
      },
      "source": [
        "def sort(number1, number2, number3):\n",
        "  if (number1 < number2) and (number1 < number3):\n",
        "    if number2 < number3:\n",
        "      return number1, number2, number3\n",
        "    else:\n",
        "      return number1, number3, number2\n",
        "  if (number2 < number1) and (number2 < number3):\n",
        "    if number1 < number3:\n",
        "      return number2, number1, number3\n",
        "    else:\n",
        "      return number2, number3, number1\n",
        "  if (number3 < number1) and (number3 < number2):\n",
        "    if number1 < number2:\n",
        "      return number3, number1, number2\n",
        "    else: \n",
        "      return number3, number2, number1\n",
        "\n",
        "num1, num2, num3 = sort(10,20,30)\n",
        "\n",
        "print(\"num1 is\", num1)\n",
        "print(\"num2 is\", num2)\n",
        "print(\"num3 is\", num3)"
      ],
      "execution_count": 3,
      "outputs": [
        {
          "output_type": "stream",
          "name": "stdout",
          "text": [
            "num1 is 10\n",
            "num2 is 20\n",
            "num3 is 30\n"
          ]
        }
      ]
    },
    {
      "cell_type": "markdown",
      "metadata": {
        "id": "_GItmoJ9aaNt"
      },
      "source": [
        "# **Area**"
      ]
    },
    {
      "cell_type": "code",
      "metadata": {
        "id": "RRYpWZ9zagak"
      },
      "source": [
        "def printArea(width = 8.27, height = 20.02):\n",
        "  area = width * height\n",
        "  print(\"width:\", width, \"\\theight:\", height, \"\\tarea:\", area)"
      ],
      "execution_count": 9,
      "outputs": []
    },
    {
      "cell_type": "code",
      "metadata": {
        "colab": {
          "base_uri": "https://localhost:8080/"
        },
        "id": "T5lbOfTwbPlV",
        "outputId": "9e5e6fea-c8d4-49d5-ddbc-06221af61bc9"
      },
      "source": [
        "8.27*20.02"
      ],
      "execution_count": 10,
      "outputs": [
        {
          "output_type": "execute_result",
          "data": {
            "text/plain": [
              "165.56539999999998"
            ]
          },
          "metadata": {},
          "execution_count": 10
        }
      ]
    },
    {
      "cell_type": "markdown",
      "metadata": {
        "id": "61xnal-abaSA"
      },
      "source": [
        "# **Use Default Arguments**"
      ]
    },
    {
      "cell_type": "code",
      "metadata": {
        "colab": {
          "base_uri": "https://localhost:8080/"
        },
        "id": "RAeukD6Wbe2R",
        "outputId": "5480eaf6-9741-4166-ea84-68a37d9565aa"
      },
      "source": [
        "printArea()"
      ],
      "execution_count": 11,
      "outputs": [
        {
          "output_type": "stream",
          "name": "stdout",
          "text": [
            "width: 8.27 \theight: 20.02 \tarea: 165.56539999999998\n"
          ]
        }
      ]
    },
    {
      "cell_type": "markdown",
      "metadata": {
        "id": "ghCqebxcbjtQ"
      },
      "source": [
        "# **Use Keyboard Arguments**"
      ]
    },
    {
      "cell_type": "code",
      "metadata": {
        "colab": {
          "base_uri": "https://localhost:8080/"
        },
        "id": "wKFY_Iq2bnpG",
        "outputId": "e0206d91-8e64-4a7d-9b3d-add5fa9ab381"
      },
      "source": [
        "printArea(width = 20, height = 10)"
      ],
      "execution_count": 12,
      "outputs": [
        {
          "output_type": "stream",
          "name": "stdout",
          "text": [
            "width: 20 \theight: 10 \tarea: 200\n"
          ]
        }
      ]
    },
    {
      "cell_type": "code",
      "metadata": {
        "colab": {
          "base_uri": "https://localhost:8080/"
        },
        "id": "YAXphf1EbzP3",
        "outputId": "6ad9d60a-6e5c-4423-e53d-31e2d2b3bf78"
      },
      "source": [
        "printArea(height = 10, width = 20)"
      ],
      "execution_count": 13,
      "outputs": [
        {
          "output_type": "stream",
          "name": "stdout",
          "text": [
            "width: 20 \theight: 10 \tarea: 200\n"
          ]
        }
      ]
    },
    {
      "cell_type": "markdown",
      "metadata": {
        "id": "QkY0B3q6b6vA"
      },
      "source": [
        "# **Use Positional Arguments**"
      ]
    },
    {
      "cell_type": "code",
      "metadata": {
        "colab": {
          "base_uri": "https://localhost:8080/"
        },
        "id": "rwNYCljBb9lu",
        "outputId": "548d06fb-5298-43fa-bc71-1fdff9dcc0de"
      },
      "source": [
        "printArea(30,40)"
      ],
      "execution_count": 14,
      "outputs": [
        {
          "output_type": "stream",
          "name": "stdout",
          "text": [
            "width: 30 \theight: 40 \tarea: 1200\n"
          ]
        }
      ]
    },
    {
      "cell_type": "code",
      "metadata": {
        "colab": {
          "base_uri": "https://localhost:8080/"
        },
        "id": "kwvw5ViOcDQl",
        "outputId": "c1b5436f-bd64-4e1d-a8b5-67678e6986aa"
      },
      "source": [
        "printArea(40,30)"
      ],
      "execution_count": 15,
      "outputs": [
        {
          "output_type": "stream",
          "name": "stdout",
          "text": [
            "width: 40 \theight: 30 \tarea: 1200\n"
          ]
        }
      ]
    },
    {
      "cell_type": "markdown",
      "metadata": {
        "id": "Oa_6sVNacQei"
      },
      "source": [
        "# **Lambda**"
      ]
    },
    {
      "cell_type": "code",
      "metadata": {
        "colab": {
          "base_uri": "https://localhost:8080/"
        },
        "id": "SQ7T5DvMcSx0",
        "outputId": "f82ac221-cf77-4d51-a33a-fdf1e17da632"
      },
      "source": [
        "f4 = lambda x, y, z: x+2*y+4*z\n",
        "print(f4(1,2,3))"
      ],
      "execution_count": 17,
      "outputs": [
        {
          "output_type": "stream",
          "name": "stdout",
          "text": [
            "17\n"
          ]
        }
      ]
    },
    {
      "cell_type": "markdown",
      "metadata": {
        "id": "QqMvR5FdcpTy"
      },
      "source": [
        "# **Power of Lambda**"
      ]
    },
    {
      "cell_type": "code",
      "metadata": {
        "colab": {
          "base_uri": "https://localhost:8080/"
        },
        "id": "xeFIfOezcsog",
        "outputId": "67de0a01-3c3f-463a-d011-75d3e4ebffc2"
      },
      "source": [
        "def myfunc(a):\n",
        "  return a*a\n",
        "\n",
        "my_list = [3, 6, 9, -12, -15]\n",
        "\n",
        "print(list(map(lambda x:myfunc(x), my_list)))"
      ],
      "execution_count": 18,
      "outputs": [
        {
          "output_type": "stream",
          "name": "stdout",
          "text": [
            "[9, 36, 81, 144, 225]\n"
          ]
        }
      ]
    }
  ]
}